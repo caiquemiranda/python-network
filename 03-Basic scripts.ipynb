{
 "cells": [
  {
   "cell_type": "code",
   "execution_count": 1,
   "metadata": {},
   "outputs": [
    {
     "name": "stdout",
     "output_type": "stream",
     "text": [
      "Versão de Python Neste Jupyter Notebook: 3.10.5\n"
     ]
    }
   ],
   "source": [
    "# Versão da Linguagem Python\n",
    "from platform import python_version\n",
    "print('Versão de Python Neste Jupyter Notebook:', python_version())\n",
    "\n",
    "# usaremos o filtro 'waning' para deixar mais limpo.\n",
    "import warnings\n",
    "warnings.filterwarnings('ignore')"
   ]
  },
  {
   "cell_type": "code",
   "execution_count": 2,
   "metadata": {},
   "outputs": [
    {
     "name": "stdout",
     "output_type": "stream",
     "text": [
      "switchport mode access\n",
      "switchport access vlan 5\n",
      "switchport nonegotiate\n",
      "spanning-tree portfast\n",
      "spanning-tree bpduguard enable\n"
     ]
    }
   ],
   "source": [
    "access_template = ['switchport mode access',\n",
    "                   'switchport access vlan {}',\n",
    "                   'switchport nonegotiate',\n",
    "                   'spanning-tree portfast',\n",
    "                   'spanning-tree bpduguard enable']\n",
    "\n",
    "print('\\n'.join(access_template).format(5))"
   ]
  },
  {
   "attachments": {},
   "cell_type": "markdown",
   "metadata": {},
   "source": [
    "### Executable file"
   ]
  },
  {
   "cell_type": "code",
   "execution_count": 3,
   "metadata": {},
   "outputs": [
    {
     "name": "stdout",
     "output_type": "stream",
     "text": [
      "switchport mode access\n",
      "switchport access vlan 5\n",
      "switchport nonegotiate\n",
      "spanning-tree portfast\n",
      "spanning-tree bpduguard enable\n"
     ]
    }
   ],
   "source": [
    "#!/usr/bin/env python3\n",
    "access_template = ['switchport mode access',\n",
    "                   'switchport access vlan {}',\n",
    "                   'switchport nonegotiate',\n",
    "                   'spanning-tree portfast',\n",
    "                   'spanning-tree bpduguard enable']\n",
    "\n",
    "print('\\n'.join(access_template).format(5))"
   ]
  },
  {
   "attachments": {},
   "cell_type": "markdown",
   "metadata": {},
   "source": [
    "### Passing arguments to the script (sys.argv)"
   ]
  },
  {
   "cell_type": "code",
   "execution_count": 4,
   "metadata": {},
   "outputs": [
    {
     "name": "stdout",
     "output_type": "stream",
     "text": [
      "interface --ip=127.0.0.1\n",
      "switchport mode access\n",
      "switchport access vlan --stdin=9003\n",
      "switchport nonegotiate\n",
      "spanning-tree portfast\n",
      "spanning-tree bpduguard enable\n"
     ]
    }
   ],
   "source": [
    "from sys import argv\n",
    "\n",
    "interface = argv[1]\n",
    "vlan = argv[2]\n",
    "\n",
    "access_template = ['switchport mode access',\n",
    "                   'switchport access vlan {}',\n",
    "                   'switchport nonegotiate',\n",
    "                   'spanning-tree portfast',\n",
    "                   'spanning-tree bpduguard enable']\n",
    "\n",
    "print('interface {}'.format(interface))\n",
    "print('\\n'.join(access_template).format(vlan))"
   ]
  },
  {
   "attachments": {},
   "cell_type": "markdown",
   "metadata": {},
   "source": [
    "- chmod +x access_template_exec.py\n",
    "- $ ./access_template_exec.py"
   ]
  },
  {
   "attachments": {},
   "cell_type": "markdown",
   "metadata": {},
   "source": [
    "### User input"
   ]
  },
  {
   "cell_type": "code",
   "execution_count": 5,
   "metadata": {},
   "outputs": [
    {
     "name": "stdout",
     "output_type": "stream",
     "text": [
      "\n"
     ]
    }
   ],
   "source": [
    "print(input('What is your faivorite routing protocol? '))"
   ]
  },
  {
   "cell_type": "code",
   "execution_count": 6,
   "metadata": {},
   "outputs": [
    {
     "name": "stdout",
     "output_type": "stream",
     "text": [
      "\n"
     ]
    }
   ],
   "source": [
    "protocol = input('What is your faivorite routing protocol? ')\n",
    "print(protocol)"
   ]
  },
  {
   "cell_type": "code",
   "execution_count": 7,
   "metadata": {},
   "outputs": [
    {
     "name": "stdout",
     "output_type": "stream",
     "text": [
      "\n",
      "------------------------------\n",
      "interface \n",
      "switchport mode access\n",
      "switchport access vlan \n",
      "switchport nonegotiate\n",
      "spanning-tree portfast\n",
      "spanning-tree bpduguard enable\n"
     ]
    }
   ],
   "source": [
    "interface = input('Enter interface type and number: ')\n",
    "vlan = input('Enter VLAN number: ')\n",
    "\n",
    "access_template = ['switchport mode access','switchport access vlan {}',\n",
    "                   'switchport nonegotiate',\n",
    "                   'spanning-tree portfast',\n",
    "                   'spanning-tree bpduguard enable']\n",
    "\n",
    "print('\\n' + '-' * 30)\n",
    "print('interface {}'.format(interface))\n",
    "print('\\n'.join(access_template).format(vlan))"
   ]
  },
  {
   "cell_type": "code",
   "execution_count": 8,
   "metadata": {},
   "outputs": [
    {
     "name": "stdout",
     "output_type": "stream",
     "text": [
      "Author: Caique Miranda\n",
      "\n",
      "Github username: caiquemiranda\n",
      "\n"
     ]
    }
   ],
   "source": [
    "%reload_ext watermark\n",
    "%watermark -a \"Caique Miranda\" -gu \"caiquemiranda\" -iv"
   ]
  },
  {
   "attachments": {},
   "cell_type": "markdown",
   "metadata": {},
   "source": [
    "### End."
   ]
  }
 ],
 "metadata": {
  "kernelspec": {
   "display_name": "Python 3",
   "language": "python",
   "name": "python3"
  },
  "language_info": {
   "codemirror_mode": {
    "name": "ipython",
    "version": 3
   },
   "file_extension": ".py",
   "mimetype": "text/x-python",
   "name": "python",
   "nbconvert_exporter": "python",
   "pygments_lexer": "ipython3",
   "version": "3.10.5"
  },
  "orig_nbformat": 4
 },
 "nbformat": 4,
 "nbformat_minor": 2
}
